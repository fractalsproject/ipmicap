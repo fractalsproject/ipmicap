{
 "cells": [
  {
   "cell_type": "code",
   "execution_count": 9,
   "metadata": {},
   "outputs": [],
   "source": [
    "# supply location of the log file to analyze\n",
    "\n",
    "# the data direction where all the log files are placed\n",
    "data_dir = \"/Users/gwilliams/Projects/GSI/IPMI/data/tests\"\n",
    "\n",
    "# CPU1-56, 10 seconds sleep, 30 seconds stress\n",
    "#log_file=\"2021-06-02_22:08:52\"\n",
    "\n",
    "# CPU0-56, 20 seconds sleep, 60 seconds stress\n",
    "#log_file=\"2021-06-03_20:38:40\"\n",
    "\n",
    "# CPU0-56, 20 seconds sleep, 60 seconds stress, vm=True\n",
    "#log_file=\"2021-06-03_22:38:55\"\n",
    "\n",
    "# CPU0-56, 20 seconds sleep, 60 seconds stress, vm=True, io=True\n",
    "#log_file=\"2021-06-04_00:05:24\"\n",
    "\n",
    "# CPU0-56, 20 seconds sleep, 60 seconds stress, vm=True, vm=True\n",
    "#log_file=\"2021-06-04_02:28:33\"\n",
    "\n",
    "# CPU0-56, 20 seconds sleep, 60 seconds stress\n",
    "log_file=\"2021-06-04_05:14:03\""
   ]
  },
  {
   "cell_type": "code",
   "execution_count": 10,
   "metadata": {},
   "outputs": [
    {
     "name": "stdout",
     "output_type": "stream",
     "text": [
      "vm 0\n",
      "io 0\n",
      "hdd 0\n",
      "done\n"
     ]
    },
    {
     "data": {
      "text/html": [
       "<div>\n",
       "<style scoped>\n",
       "    .dataframe tbody tr th:only-of-type {\n",
       "        vertical-align: middle;\n",
       "    }\n",
       "\n",
       "    .dataframe tbody tr th {\n",
       "        vertical-align: top;\n",
       "    }\n",
       "\n",
       "    .dataframe thead th {\n",
       "        text-align: right;\n",
       "    }\n",
       "</style>\n",
       "<table border=\"1\" class=\"dataframe\">\n",
       "  <thead>\n",
       "    <tr style=\"text-align: right;\">\n",
       "      <th></th>\n",
       "      <th>cpu</th>\n",
       "      <th>record_id</th>\n",
       "      <th>data</th>\n",
       "      <th>value</th>\n",
       "    </tr>\n",
       "  </thead>\n",
       "  <tbody>\n",
       "    <tr>\n",
       "      <th>0</th>\n",
       "      <td>0</td>\n",
       "      <td>18</td>\n",
       "      <td>2021-06-04 05:14:46</td>\n",
       "      <td>176.0</td>\n",
       "    </tr>\n",
       "    <tr>\n",
       "      <th>1</th>\n",
       "      <td>0</td>\n",
       "      <td>18</td>\n",
       "      <td>2021-06-04 05:14:47</td>\n",
       "      <td>176.0</td>\n",
       "    </tr>\n",
       "    <tr>\n",
       "      <th>2</th>\n",
       "      <td>0</td>\n",
       "      <td>18</td>\n",
       "      <td>2021-06-04 05:14:48</td>\n",
       "      <td>176.0</td>\n",
       "    </tr>\n",
       "    <tr>\n",
       "      <th>3</th>\n",
       "      <td>0</td>\n",
       "      <td>18</td>\n",
       "      <td>2021-06-04 05:14:49</td>\n",
       "      <td>176.0</td>\n",
       "    </tr>\n",
       "    <tr>\n",
       "      <th>4</th>\n",
       "      <td>0</td>\n",
       "      <td>18</td>\n",
       "      <td>2021-06-04 05:14:51</td>\n",
       "      <td>176.0</td>\n",
       "    </tr>\n",
       "    <tr>\n",
       "      <th>...</th>\n",
       "      <td>...</td>\n",
       "      <td>...</td>\n",
       "      <td>...</td>\n",
       "      <td>...</td>\n",
       "    </tr>\n",
       "    <tr>\n",
       "      <th>6116</th>\n",
       "      <td>56</td>\n",
       "      <td>20</td>\n",
       "      <td>2021-06-04 06:30:23</td>\n",
       "      <td>256.0</td>\n",
       "    </tr>\n",
       "    <tr>\n",
       "      <th>6117</th>\n",
       "      <td>56</td>\n",
       "      <td>20</td>\n",
       "      <td>2021-06-04 06:30:24</td>\n",
       "      <td>256.0</td>\n",
       "    </tr>\n",
       "    <tr>\n",
       "      <th>6118</th>\n",
       "      <td>56</td>\n",
       "      <td>20</td>\n",
       "      <td>2021-06-04 06:30:26</td>\n",
       "      <td>256.0</td>\n",
       "    </tr>\n",
       "    <tr>\n",
       "      <th>6119</th>\n",
       "      <td>56</td>\n",
       "      <td>20</td>\n",
       "      <td>2021-06-04 06:30:27</td>\n",
       "      <td>256.0</td>\n",
       "    </tr>\n",
       "    <tr>\n",
       "      <th>6120</th>\n",
       "      <td>56</td>\n",
       "      <td>20</td>\n",
       "      <td>2021-06-04 06:30:28</td>\n",
       "      <td>256.0</td>\n",
       "    </tr>\n",
       "  </tbody>\n",
       "</table>\n",
       "<p>6121 rows × 4 columns</p>\n",
       "</div>"
      ],
      "text/plain": [
       "      cpu  record_id                data  value\n",
       "0       0         18 2021-06-04 05:14:46  176.0\n",
       "1       0         18 2021-06-04 05:14:47  176.0\n",
       "2       0         18 2021-06-04 05:14:48  176.0\n",
       "3       0         18 2021-06-04 05:14:49  176.0\n",
       "4       0         18 2021-06-04 05:14:51  176.0\n",
       "...   ...        ...                 ...    ...\n",
       "6116   56         20 2021-06-04 06:30:23  256.0\n",
       "6117   56         20 2021-06-04 06:30:24  256.0\n",
       "6118   56         20 2021-06-04 06:30:26  256.0\n",
       "6119   56         20 2021-06-04 06:30:27  256.0\n",
       "6120   56         20 2021-06-04 06:30:28  256.0\n",
       "\n",
       "[6121 rows x 4 columns]"
      ]
     },
     "execution_count": 10,
     "metadata": {},
     "output_type": "execute_result"
    }
   ],
   "source": [
    "# parse the log file into a dataframe\n",
    "\n",
    "from datetime import datetime\n",
    "import copy\n",
    "import os\n",
    "\n",
    "f = open( os.path.join(data_dir, log_file))\n",
    "lines = f.readlines()\n",
    "f.close()\n",
    "\n",
    "c=0\n",
    "if not lines[c].startswith(\"IpmiLogger\"):\n",
    "    raise Exception(\"Invalid log file\")\n",
    "c += 1\n",
    "\n",
    "sensors = {}\n",
    "while True:\n",
    "    #print(lines[c])\n",
    "    if lines[c].find(\"SENSOR\")>0:\n",
    "        sensor_description = lines[c].split(\"--\")[1]\n",
    "        record_id = lines[c].split()[-2]\n",
    "        sensors[record_id] = {'description':sensor_description}\n",
    "        c += 1\n",
    "    else:\n",
    "        break\n",
    "num_sensors = len(sensors.keys())\n",
    "if num_sensors==0:\n",
    "    raise Exception(\"No sensors found in header.\")\n",
    "    \n",
    "tests = []\n",
    "cur_test = None\n",
    "test = None\n",
    "capture = False\n",
    "start_test = None\n",
    "end_test = None\n",
    "vm = 0\n",
    "io = 0\n",
    "hdd = 0\n",
    "while c < len(lines):\n",
    "    el = lines[c].split(\"--\")[1].split()[0]\n",
    "    if el==\"cpu\":\n",
    "        cur_test = lines[c].split(\"--\")[1].split()[-1]\n",
    "        test = {'cpu':int(cur_test), 'data':dict(zip( list(sensors.keys()),[[] for i in range(len(sensors.keys()))] ) ) }\n",
    "        #print(\"current test=\",cur_test)\n",
    "        if start_test==None: start_test = int(cur_test)\n",
    "        else: end_test = int(cur_test)\n",
    "    elif el==\"vm\":\n",
    "        vm = 1 if ( int(lines[c].split(\"--\")[1].split()[-1]) == 1 ) else 0\n",
    "        print(\"vm\",vm)\n",
    "    elif el==\"io\":\n",
    "        io = 1 if ( int(lines[c].split(\"--\")[1].split()[-1]) == 1 ) else 0\n",
    "        print(\"io\",io)\n",
    "    elif el==\"hdd\":\n",
    "        hdd = 1 if ( int(lines[c].split(\"--\")[1].split()[-1]) == 1 ) else 0\n",
    "        print(\"hdd\",hdd)\n",
    "    elif el==\"done\":\n",
    "        print(\"done\")\n",
    "        break\n",
    "    elif el==\"stress\":\n",
    "        on_off = lines[c].split(\"--\")[1].split()[-1].strip()\n",
    "        if on_off == \"1\":\n",
    "            capture = True\n",
    "        elif on_off == \"0\":\n",
    "            if test: tests.append(test)\n",
    "            capture = False\n",
    "            #break\n",
    "        else:\n",
    "            raise Exception(\"Invalid value for stress\")\n",
    "    elif test and capture and el in test['data'].keys():\n",
    "        dt = lines[c].split(\"--\")[0].strip()\n",
    "        #print(\"-%s-\" % dt)\n",
    "        dto = datetime.strptime(dt, '%Y-%m-%d_%H:%M:%S')\n",
    "        val = float(lines[c].split(\"--\")[1].split()[-1])\n",
    "        #print(dt,val)\n",
    "        test['data'][el].append( [ dto, val] )\n",
    "        #print(\"adding\", test['cpu'], el, val, len(test['data'][el]))\n",
    "        #print(len( test['data']['18']))\n",
    "        #print(len( test['data']['20']))\n",
    "        #print(cur_test,el,dto,val)\n",
    "    c += 1\n",
    "    \n",
    "#print(len( tests[0]['data']['18']))\n",
    "#print(tests[0]['data']['18'])\n",
    "#print(len( tests[1]['data']['20']))\n",
    "    \n",
    "ready_for_df = []\n",
    "for test in tests:\n",
    "    #print(test['cpu'])\n",
    "    keys = test['data'].keys()\n",
    "    for record_id in keys:\n",
    "        #print(test['data'].keys(), test['cpu'], record_id, len(test['data'][record_id]))\n",
    "        #print(record_id, len(test['data'][record_id]) )#, test['data'][record_id][0][0],test['data'][record_id][0][1])\n",
    "        for idx, data_point in enumerate( test['data'][record_id] ):\n",
    "            df_item = [ test['cpu'], int(record_id), data_point[0], data_point[1] ]  \n",
    "            #print(df_item)\n",
    "            ready_for_df.append(df_item)\n",
    "\n",
    "import pandas as pd \n",
    "df = pd.DataFrame(ready_for_df, columns =['cpu','record_id','data','value'])\n",
    "df\n"
   ]
  },
  {
   "cell_type": "code",
   "execution_count": 11,
   "metadata": {},
   "outputs": [
    {
     "name": "stdout",
     "output_type": "stream",
     "text": [
      "0 56\n",
      "57\n"
     ]
    }
   ],
   "source": [
    "\n",
    "print(start_test,end_test)\n",
    "\n",
    "all_data = []\n",
    "record_ids = [ int(record_id) for record_id in sensors.keys() ]\n",
    "\n",
    "for stress_test in range(start_test,end_test+1):\n",
    "    \n",
    "    emt = [None for r in record_ids]\n",
    "    dct = dict(zip( record_ids, emt ))\n",
    "    data = {'cpu':stress_test, 'data':dct }\n",
    "    \n",
    "    for record_id in record_ids:\n",
    "        \n",
    "        cpu = df.loc[df['cpu']==stress_test]\n",
    "        cpu_and_record = cpu.loc[ cpu['record_id'] == record_id ]\n",
    "      \n",
    "        ts = cpu_and_record[['data','value']].values.tolist()\n",
    "        dt, val = zip(*ts)\n",
    "        cdt = [ (t-dt[0]).total_seconds() for t in dt ]\n",
    "        data['data'][record_id] =[ cdt, val ]\n",
    "    all_data.append(data)\n",
    "print(len(all_data))"
   ]
  },
  {
   "cell_type": "code",
   "execution_count": 12,
   "metadata": {},
   "outputs": [
    {
     "data": {
      "image/png": "[encoded data removed]",
      "text/plain": [
       "<Figure size 720x432 with 56 Axes>"
      ]
     },
     "metadata": {
      "needs_background": "light"
     },
     "output_type": "display_data"
    }
   ],
   "source": [
    "import matplotlib.pyplot as plt\n",
    "%matplotlib inline\n",
    "plt.rc('font', size=12)\n",
    "plt.figure(figsize=(10, 6))\n",
    "colors = ['tab:orange', 'tab:blue' ]\n",
    "\n",
    "for r in range(1,9):\n",
    "    for c in range(1,8):\n",
    "        num = (r-1)*7+c\n",
    "        #print(num)\n",
    "        ax = plt.subplot(8,7,num )#figsize=(10, 6))  \n",
    "        \n",
    "        for idx,record_id in enumerate(record_ids):\n",
    "            cdt = all_data[num-1]['data'][record_id][0]\n",
    "            val = all_data[num-1]['data'][record_id][1]\n",
    "            ax.plot(cdt, val, color=colors[idx])\n",
    "            \n",
    "        \n",
    "        #ax.set_xlabel('Time')\n",
    "        ax.set_ylim([0, 300])\n",
    "        if num==1: ax.set_yticks([0,300])\n",
    "        else: ax.set_yticks([])\n",
    "        ax.set_xticks([])\n",
    "        #ax.set_ylabel('Watts')\n",
    "        ax.set_title('cpus=%d' % num, fontsize=8, y=0.8)\n",
    "        #ax.grid(True)\n",
    "#ax.legend(loc='upper left');"
   ]
  },
  {
   "cell_type": "code",
   "execution_count": 13,
   "metadata": {},
   "outputs": [
    {
     "name": "stdout",
     "output_type": "stream",
     "text": [
      "57\n"
     ]
    }
   ],
   "source": [
    "from scipy.integrate import simps\n",
    "from numpy import trapz\n",
    "\n",
    "powers = []\n",
    "for i in range(len(all_data)):\n",
    "    \n",
    "    power = None\n",
    "    for idx,record_id in enumerate(record_ids):\n",
    "        cdt = all_data[i]['data'][record_id][0]\n",
    "        val = all_data[i]['data'][record_id][1]\n",
    "            \n",
    "        tarea = trapz(val,cdt)\n",
    "        sarea = simps(val,cdt)\n",
    "        #print(cdt)\n",
    "        #print(val)\n",
    "        #print(tarea,sarea)\n",
    "        #raise Exception(\"none\")\n",
    "        if not power: power = [ tarea, sarea ]\n",
    "        else: power = [a + b for a, b in zip(power, [tarea, sarea])]\n",
    "            \n",
    "    powers.append(power)\n",
    "        \n",
    "print(len(powers))\n",
    "\n"
   ]
  },
  {
   "cell_type": "code",
   "execution_count": 14,
   "metadata": {},
   "outputs": [
    {
     "name": "stdout",
     "output_type": "stream",
     "text": [
      "57\n"
     ]
    },
    {
     "data": {
      "text/plain": [
       "(0.0, 31433.6)"
      ]
     },
     "execution_count": 14,
     "metadata": {},
     "output_type": "execute_result"
    },
    {
     "data": {
      "image/png": "[encoded data removed]",
      "text/plain": [
       "<Figure size 720x432 with 2 Axes>"
      ]
     },
     "metadata": {
      "needs_background": "light"
     },
     "output_type": "display_data"
    }
   ],
   "source": [
    "plt.figure(figsize=(10, 6))\n",
    "\n",
    "print(len(all_data))\n",
    "x = range(1, len(all_data)+1)\n",
    "tareas = [ el[0] for el in powers ]\n",
    "sareas = [ el[1] for el in powers ]\n",
    "ax = plt.subplot(2,1,1 )\n",
    "ax.plot(x, tareas, color='tab:blue')\n",
    "ax.set_ylim([0, max(tareas) + 0.1*max(tareas)])\n",
    "ax = plt.subplot(2,1,2 )\n",
    "ax.plot(x, sareas, color='tab:orange')\n",
    "ax.set_ylim([0, max(sareas) + 0.1*max(sareas)])"
   ]
  },
  {
   "cell_type": "code",
   "execution_count": 15,
   "metadata": {},
   "outputs": [
    {
     "name": "stdout",
     "output_type": "stream",
     "text": [
      "saved  /Users/gwilliams/Projects/GSI/IPMI/data/tests/power_stress_cpu__vm=0__io=0__hdd=0__dt=2021-06-04_05:14:03.pickle\n"
     ]
    }
   ],
   "source": [
    "# save the data out\n",
    "import pickle\n",
    "path = os.path.join(data_dir,\"power_stress_cpu__vm=%d__io=%d__hdd=%d__dt=%s.pickle\" % (vm,io,hdd,log_file))\n",
    "dbfile = open(path, 'ab')\n",
    "pickle.dump(powers, dbfile)                     \n",
    "dbfile.close()\n",
    "print(\"saved \",path)"
   ]
  },
  {
   "cell_type": "code",
   "execution_count": 16,
   "metadata": {},
   "outputs": [
    {
     "data": {
      "image/png": "[encoded data removed]",
      "text/plain": [
       "<Figure size 432x288 with 2 Axes>"
      ]
     },
     "metadata": {
      "needs_background": "light"
     },
     "output_type": "display_data"
    }
   ],
   "source": [
    "# plot all experiments\n",
    "experiments = [ { \"vm\":0, \"io\":0, \"hdd\":0 }, { \"vm\":1, \"io\":0, \"hdd\":0 }, \n",
    "               { \"vm\":1, \"io\":1, \"hdd\":0 }, { \"vm\":1, \"io\":1, \"hdd\":1 }  ] \n",
    "\n",
    "ax1 = plt.subplot(2,1,1 )\n",
    "#ax.set_ylim([0, max(tareas) + 0.1*max(tareas)])\n",
    "ax2 = plt.subplot(2,1,2 )\n",
    "#ax.set_ylim([0, max(sareas) + 0.1*max(sareas)])\n",
    "\n",
    "for exp in []:\n",
    "    path = \"power_stress_cpu__vm=%d__io=%d__hdd=%d__dt=%s.pickle\" % ( exp[\"vm\"], exp[\"io\"], exp[\"hdd\"], log_file )\n",
    "    print(\"loading\",path)\n",
    "    fpath = os.path.join( data_dir, path)\n",
    "    dbfile = open(fpath, 'rb')  \n",
    "    powers = pickle.load(dbfile)\n",
    "    \n",
    "    tareas = [ el[0] for el in powers ]\n",
    "    sareas = [ el[1] for el in powers ]\n",
    "\n",
    "    ax1.plot(x, tareas, color='tab:blue')\n",
    "    ax2.plot(x, sareas, color='tab:orange')\n"
   ]
  },
  {
   "cell_type": "code",
   "execution_count": null,
   "metadata": {},
   "outputs": [],
   "source": []
  }
 ],
 "metadata": {
  "kernelspec": {
   "display_name": "Python 3",
   "language": "python",
   "name": "python3"
  },
  "language_info": {
   "codemirror_mode": {
    "name": "ipython",
    "version": 3
   },
   "file_extension": ".py",
   "mimetype": "text/x-python",
   "name": "python",
   "nbconvert_exporter": "python",
   "pygments_lexer": "ipython3",
   "version": "3.8.5"
  }
 },
 "nbformat": 4,
 "nbformat_minor": 4
}
