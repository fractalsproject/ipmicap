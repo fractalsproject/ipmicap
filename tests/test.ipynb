{
 "cells": [
  {
   "cell_type": "code",
   "execution_count": 13,
   "metadata": {},
   "outputs": [
    {
     "data": {
      "text/html": [
       "<table border=\"1\" class=\"dataframe\">\n",
       "  <thead>\n",
       "    <tr style=\"text-align: right;\">\n",
       "      <th></th>\n",
       "      <th>recall</th>\n",
       "      <th>qps</th>\n",
       "      <th>power</th>\n",
       "      <th>cost</th>\n",
       "    </tr>\n",
       "  </thead>\n",
       "  <tbody>\n",
       "    <tr>\n",
       "      <th>stuff</th>\n",
       "      <td>1.0</td>\n",
       "      <td>1.0</td>\n",
       "      <td>1.0</td>\n",
       "      <td>$1.00</td>\n",
       "    </tr>\n",
       "    <tr>\n",
       "      <th>stuff2</th>\n",
       "      <td>2.0</td>\n",
       "      <td>3.0</td>\n",
       "      <td>4.0</td>\n",
       "      <td>$500,000,000.00</td>\n",
       "    </tr>\n",
       "    <tr>\n",
       "      <th>final-score</th>\n",
       "      <td>NaN</td>\n",
       "      <td>NaN</td>\n",
       "      <td>NaN</td>\n",
       "      <td></td>\n",
       "    </tr>\n",
       "  </tbody>\n",
       "</table>"
      ],
      "text/plain": [
       "<IPython.core.display.HTML object>"
      ]
     },
     "metadata": {},
     "output_type": "display_data"
    }
   ],
   "source": [
    "import pandas as pd\n",
    "import numpy as np\n",
    "\n",
    "summary = {}\n",
    "summary[\"stuff\"] = [ 1.0, 1.0, 1.0, 1.0]\n",
    "summary[\"stuff2\"] = [ 2.0, 3.0, 4.0, 500000000.0]\n",
    "summary[\"final-score\"] = [ np.nan, np.nan, np.nan, np.nan ]\n",
    "\n",
    "idx = list(summary.keys())\n",
    "df = pd.DataFrame(summary.values(),columns=['recall','qps','power','cost'],index=idx)\n",
    "df['cost'] = df['cost'].map( lambda x: '${:,.2f}'.format(x) if not np.isnan(x) else '')\n",
    "#df = df.replace('NaN','')\n",
    "#df = df.replace(np.nan,'-')\n",
    "#df = df.replace('$nan','-')\n",
    "\n",
    "from IPython.display import display, HTML\n",
    "display(HTML(df.to_html()))"
   ]
  },
  {
   "cell_type": "code",
   "execution_count": null,
   "metadata": {},
   "outputs": [],
   "source": []
  }
 ],
 "metadata": {
  "kernelspec": {
   "display_name": "Python 3",
   "language": "python",
   "name": "python3"
  },
  "language_info": {
   "codemirror_mode": {
    "name": "ipython",
    "version": 3
   },
   "file_extension": ".py",
   "mimetype": "text/x-python",
   "name": "python",
   "nbconvert_exporter": "python",
   "pygments_lexer": "ipython3",
   "version": "3.8.5"
  }
 },
 "nbformat": 4,
 "nbformat_minor": 4
}
